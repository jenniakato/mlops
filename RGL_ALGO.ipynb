{
 "cells": [
  {
   "cell_type": "markdown",
   "id": "7620951b",
   "metadata": {},
   "source": [
    "## MLflow Configuration"
   ]
  },
  {
   "cell_type": "code",
   "execution_count": null,
   "id": "9a99b9fd",
   "metadata": {},
   "outputs": [],
   "source": [
    "#!pip install mlflow\n",
    "#!pip install --upgrade jinja2\n",
    "#!pip install --upgrade Flask\n",
    "#!pip install setuptools"
   ]
  },
  {
   "cell_type": "code",
   "execution_count": null,
   "id": "1e208dca",
   "metadata": {},
   "outputs": [],
   "source": [
    "## Import de librairie\n",
    "import pandas as pd\n",
    "import mlflow\n",
    "from mlflow import MlflowClient\n",
    "from sklearn.impute import SimpleImputer\n",
    "from sklearn.linear_model import LogisticRegression\n",
    "from sklearn.compose import ColumnTransformer\n",
    "from sklearn.preprocessing import OneHotEncoder\n",
    "from sklearn.pipeline import Pipeline\n",
    "from pprint import pprint\n",
    "from sklearn.model_selection import train_test_split\n",
    "from sklearn.metrics import mean_absolute_error, mean_squared_error, r2_score\n",
    "from sklearn.metrics import accuracy_score, precision_score, recall_score, f1_score, classification_report, confusion_matrix"
   ]
  },
  {
   "cell_type": "code",
   "execution_count": null,
   "id": "1ee6a796",
   "metadata": {},
   "outputs": [],
   "source": [
    "## Connecxion au serveur MLFlow\n",
    "client= MlflowClient(tracking_uri=\"http://127.0.0.1:8080\")\n",
    "## Configuration \n",
    "mlflow.set_tracking_uri(\"http://127.0.0.1:8080\")\n"
   ]
  },
  {
   "cell_type": "code",
   "execution_count": null,
   "id": "aa9c2ff4",
   "metadata": {},
   "outputs": [],
   "source": [
    "# Récupération de toutes les expériences MLflow\n",
    "all_experiments = client.search_experiments()\n",
    "# Affichage des expériences \n",
    "print(all_experiments)"
   ]
  },
  {
   "cell_type": "code",
   "execution_count": null,
   "id": "eb7e4ae9",
   "metadata": {},
   "outputs": [],
   "source": [
    "# Recherche des expériences Mlflow Spécifique.\n",
    "client.search_experiments(filter_string=\"name = 'RLG_Models'\")"
   ]
  },
  {
   "cell_type": "markdown",
   "id": "945c4ba8",
   "metadata": {},
   "source": [
    "## Chargement du fichier "
   ]
  },
  {
   "cell_type": "code",
   "execution_count": null,
   "id": "add13bcb",
   "metadata": {},
   "outputs": [],
   "source": [
    "# Définition du chemin vers le fichier de  données \n",
    "data_dir = r\"C:\\Users\\j_aka\\Desktop\\mlops\\credit_risk_dataset.csv\"\n",
    "# Chargement de la données \n",
    "df = pd.read_csv(data_dir, delimiter=\",\") \n",
    "#Affichage des 3 premières lignes \n",
    "print(df.head(3).to_string())"
   ]
  },
  {
   "cell_type": "markdown",
   "id": "d50e744e",
   "metadata": {},
   "source": [
    "## Regression logistic model"
   ]
  },
  {
   "cell_type": "code",
   "execution_count": null,
   "id": "31d5b588",
   "metadata": {},
   "outputs": [],
   "source": [
    "# Définition des Features et de la cible \n",
    "target_col = 'loan_status'\n",
    "X = df.drop(columns=['loan_status'])    \n",
    "y = df['loan_status']\n",
    "\n",
    "# Split des données \n",
    "X_train, X_val, y_train, y_val = train_test_split(X, y, test_size=0.2, random_state=42)\n",
    "\n",
    "# Colonne numérique et colonne catégorielle \n",
    "num_features = X.select_dtypes(include=[\"int64\", \"float64\"]).columns.tolist()\n",
    "cat_features = X.select_dtypes(include=[\"object\", \"category\"]).columns.tolist()\n",
    "\n",
    "# Conversion des colonnes numériques en float64\n",
    "X[num_features] = X[num_features].astype(\"float64\")\n",
    "\n",
    "#Encoder et Gérer les données Nan \n",
    "preprocessor = ColumnTransformer(\n",
    "    transformers= [\n",
    "        (\"num_features\", SimpleImputer(strategy=\"mean\"), num_features),\n",
    "        (\"cat_features\", OneHotEncoder(handle_unknown=\"ignore\"),cat_features)\n",
    "    ]\n",
    ")\n",
    "\n",
    "\n",
    "# Hyperparamètre du modèle\n",
    "#params = {\n",
    "   # \"max_iter\": 1000,\n",
    "#}\n",
    "# Nom du modèle : \n",
    "mlflow.set_experiment(\"RLG_Models\")\n",
    "# Nom du run pour cette itération d'entraînement\n",
    "run_name = \"RLG_Run\"\n",
    "# les artefacts du modèle\n",
    "artifact_path = \"RLG_artefacts\"\n",
    "# Fermer tout run précédent\n",
    "#mlflow.end_run()\n",
    "\n",
    "with mlflow.start_run(run_name=run_name):\n",
    "    # Tag de version du modèle\n",
    "    mlflow.set_tag(\"version\", \"v1.0\")\n",
    "\n",
    "# Encodage et entrainement du modèle \n",
    "    pipeline_fr = Pipeline(steps=[\n",
    "    (\"processor\", preprocessor),\n",
    "    (\"model\", LogisticRegression(max_iter=3000))\n",
    "   ])\n",
    "    \n",
    "# Entrainement du modèle\n",
    "    pipeline_fr.fit(X_train,y_train)\n",
    "\n",
    "# Prédiction du modèle\n",
    "    y_proba = pipeline_fr.predict_proba(X_val)[:, 1]\n",
    "    y_pred = (y_proba >= 0.3).astype(int)\n",
    "\n",
    "# Calcul des métriques\n",
    "    accuracy = accuracy_score(y_val, y_pred)\n",
    "    precision = precision_score(y_val, y_pred)\n",
    "    recall = recall_score(y_val, y_pred)\n",
    "    f1 = f1_score(y_val, y_pred)\n",
    "    metrics = {\"accuracy\": accuracy, \"precision\": precision, \"recall\": recall, \"f1\": f1\n",
    "    }\n",
    "\n",
    "    mlflow.log_param(\"max_iter\",1000)\n",
    "    mlflow.log_metrics(metrics)\n",
    "    mlflow.sklearn.log_model(\n",
    "        sk_model= pipeline_fr, \n",
    "        input_example=X_val, \n",
    "        name=artifact_path\n",
    "    ) \n",
    "\n",
    "    print(\"✅ Modèle entraîné et logué dans MLflow avec succès.\")\n",
    "    print(\"\\nRapport de classification :\\n\", classification_report(y_val, y_pred))\n",
    "    print(\"\\nMatrice de confusion :\\n\", confusion_matrix(y_val, y_pred))\n",
    "    print(\"📊 Métriques :\", metrics)"
   ]
  }
 ],
 "metadata": {
  "kernelspec": {
   "display_name": "mlops_projet",
   "language": "python",
   "name": "python3"
  },
  "language_info": {
   "codemirror_mode": {
    "name": "ipython",
    "version": 3
   },
   "file_extension": ".py",
   "mimetype": "text/x-python",
   "name": "python",
   "nbconvert_exporter": "python",
   "pygments_lexer": "ipython3",
   "version": "3.12.12"
  }
 },
 "nbformat": 4,
 "nbformat_minor": 5
}
