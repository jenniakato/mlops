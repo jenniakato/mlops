{
 "cells": [
  {
   "cell_type": "markdown",
   "id": "062b8dbb",
   "metadata": {},
   "source": [
    "## MLflow Configuration"
   ]
  },
  {
   "cell_type": "code",
   "execution_count": null,
   "id": "5d0cc351",
   "metadata": {},
   "outputs": [
    {
     "name": "stdout",
     "output_type": "stream",
     "text": [
      "Requirement already satisfied: mlflow in c:\\users\\j_aka\\anaconda3\\envs\\mlops_projet\\lib\\site-packages (3.5.0)\n",
      "Requirement already satisfied: mlflow-skinny==3.5.0 in c:\\users\\j_aka\\anaconda3\\envs\\mlops_projet\\lib\\site-packages (from mlflow) (3.5.0)\n",
      "Requirement already satisfied: mlflow-tracing==3.5.0 in c:\\users\\j_aka\\anaconda3\\envs\\mlops_projet\\lib\\site-packages (from mlflow) (3.5.0)\n",
      "Requirement already satisfied: Flask-CORS<7 in c:\\users\\j_aka\\anaconda3\\envs\\mlops_projet\\lib\\site-packages (from mlflow) (6.0.1)\n",
      "Requirement already satisfied: Flask<4 in c:\\users\\j_aka\\anaconda3\\envs\\mlops_projet\\lib\\site-packages (from mlflow) (3.1.2)\n",
      "Requirement already satisfied: alembic!=1.10.0,<2 in c:\\users\\j_aka\\anaconda3\\envs\\mlops_projet\\lib\\site-packages (from mlflow) (1.17.0)\n",
      "Requirement already satisfied: cryptography<47,>=43.0.0 in c:\\users\\j_aka\\anaconda3\\envs\\mlops_projet\\lib\\site-packages (from mlflow) (44.0.1)\n",
      "Requirement already satisfied: docker<8,>=4.0.0 in c:\\users\\j_aka\\anaconda3\\envs\\mlops_projet\\lib\\site-packages (from mlflow) (7.1.0)\n",
      "Requirement already satisfied: fastmcp<3,>=2.0.0 in c:\\users\\j_aka\\anaconda3\\envs\\mlops_projet\\lib\\site-packages (from mlflow) (2.12.5)\n",
      "Requirement already satisfied: graphene<4 in c:\\users\\j_aka\\anaconda3\\envs\\mlops_projet\\lib\\site-packages (from mlflow) (3.4.3)\n",
      "Requirement already satisfied: matplotlib<4 in c:\\users\\j_aka\\anaconda3\\envs\\mlops_projet\\lib\\site-packages (from mlflow) (3.10.6)\n",
      "Requirement already satisfied: numpy<3 in c:\\users\\j_aka\\anaconda3\\envs\\mlops_projet\\lib\\site-packages (from mlflow) (1.26.4)\n",
      "Requirement already satisfied: pandas<3 in c:\\users\\j_aka\\anaconda3\\envs\\mlops_projet\\lib\\site-packages (from mlflow) (2.3.3)\n",
      "Requirement already satisfied: pyarrow<22,>=4.0.0 in c:\\users\\j_aka\\anaconda3\\envs\\mlops_projet\\lib\\site-packages (from mlflow) (18.1.0)\n",
      "Requirement already satisfied: scikit-learn<2 in c:\\users\\j_aka\\anaconda3\\envs\\mlops_projet\\lib\\site-packages (from mlflow) (1.7.1)\n",
      "Requirement already satisfied: scipy<2 in c:\\users\\j_aka\\anaconda3\\envs\\mlops_projet\\lib\\site-packages (from mlflow) (1.16.2)\n",
      "Requirement already satisfied: sqlalchemy<3,>=1.4.0 in c:\\users\\j_aka\\anaconda3\\envs\\mlops_projet\\lib\\site-packages (from mlflow) (2.0.43)\n",
      "Requirement already satisfied: waitress<4 in c:\\users\\j_aka\\anaconda3\\envs\\mlops_projet\\lib\\site-packages (from mlflow) (3.0.2)\n",
      "Requirement already satisfied: cachetools<7,>=5.0.0 in c:\\users\\j_aka\\anaconda3\\envs\\mlops_projet\\lib\\site-packages (from mlflow-skinny==3.5.0->mlflow) (5.5.1)\n",
      "Requirement already satisfied: click<9,>=7.0 in c:\\users\\j_aka\\anaconda3\\envs\\mlops_projet\\lib\\site-packages (from mlflow-skinny==3.5.0->mlflow) (8.2.1)\n",
      "Requirement already satisfied: cloudpickle<4 in c:\\users\\j_aka\\anaconda3\\envs\\mlops_projet\\lib\\site-packages (from mlflow-skinny==3.5.0->mlflow) (3.1.1)\n",
      "Requirement already satisfied: databricks-sdk<1,>=0.20.0 in c:\\users\\j_aka\\anaconda3\\envs\\mlops_projet\\lib\\site-packages (from mlflow-skinny==3.5.0->mlflow) (0.63.0)\n",
      "Requirement already satisfied: fastapi<1 in c:\\users\\j_aka\\anaconda3\\envs\\mlops_projet\\lib\\site-packages (from mlflow-skinny==3.5.0->mlflow) (0.119.0)\n",
      "Requirement already satisfied: gitpython<4,>=3.1.9 in c:\\users\\j_aka\\anaconda3\\envs\\mlops_projet\\lib\\site-packages (from mlflow-skinny==3.5.0->mlflow) (3.1.43)\n",
      "Requirement already satisfied: importlib_metadata!=4.7.0,<9,>=3.7.0 in c:\\users\\j_aka\\anaconda3\\envs\\mlops_projet\\lib\\site-packages (from mlflow-skinny==3.5.0->mlflow) (8.5.0)\n",
      "Requirement already satisfied: opentelemetry-api<3,>=1.9.0 in c:\\users\\j_aka\\anaconda3\\envs\\mlops_projet\\lib\\site-packages (from mlflow-skinny==3.5.0->mlflow) (1.37.0)\n",
      "Requirement already satisfied: opentelemetry-proto<3,>=1.9.0 in c:\\users\\j_aka\\anaconda3\\envs\\mlops_projet\\lib\\site-packages (from mlflow-skinny==3.5.0->mlflow) (1.38.0)\n",
      "Requirement already satisfied: opentelemetry-sdk<3,>=1.9.0 in c:\\users\\j_aka\\anaconda3\\envs\\mlops_projet\\lib\\site-packages (from mlflow-skinny==3.5.0->mlflow) (1.37.0)\n",
      "Requirement already satisfied: packaging<26 in c:\\users\\j_aka\\anaconda3\\envs\\mlops_projet\\lib\\site-packages (from mlflow-skinny==3.5.0->mlflow) (24.2)\n",
      "Requirement already satisfied: protobuf<7,>=3.12.0 in c:\\users\\j_aka\\anaconda3\\envs\\mlops_projet\\lib\\site-packages (from mlflow-skinny==3.5.0->mlflow) (6.33.0)\n",
      "Requirement already satisfied: pydantic<3,>=1.10.8 in c:\\users\\j_aka\\anaconda3\\envs\\mlops_projet\\lib\\site-packages (from mlflow-skinny==3.5.0->mlflow) (2.12.3)\n",
      "Requirement already satisfied: python-dotenv<2,>=0.19.0 in c:\\users\\j_aka\\anaconda3\\envs\\mlops_projet\\lib\\site-packages (from mlflow-skinny==3.5.0->mlflow) (1.1.1)\n",
      "Requirement already satisfied: pyyaml<7,>=5.1 in c:\\users\\j_aka\\anaconda3\\envs\\mlops_projet\\lib\\site-packages (from mlflow-skinny==3.5.0->mlflow) (6.0.2)\n",
      "Requirement already satisfied: requests<3,>=2.17.3 in c:\\users\\j_aka\\anaconda3\\envs\\mlops_projet\\lib\\site-packages (from mlflow-skinny==3.5.0->mlflow) (2.32.5)\n",
      "Requirement already satisfied: sqlparse<1,>=0.4.0 in c:\\users\\j_aka\\anaconda3\\envs\\mlops_projet\\lib\\site-packages (from mlflow-skinny==3.5.0->mlflow) (0.5.2)\n",
      "Requirement already satisfied: typing-extensions<5,>=4.0.0 in c:\\users\\j_aka\\anaconda3\\envs\\mlops_projet\\lib\\site-packages (from mlflow-skinny==3.5.0->mlflow) (4.15.0)\n",
      "Requirement already satisfied: uvicorn<1 in c:\\users\\j_aka\\anaconda3\\envs\\mlops_projet\\lib\\site-packages (from mlflow-skinny==3.5.0->mlflow) (0.38.0)\n",
      "Requirement already satisfied: Mako in c:\\users\\j_aka\\anaconda3\\envs\\mlops_projet\\lib\\site-packages (from alembic!=1.10.0,<2->mlflow) (1.3.10)\n",
      "Requirement already satisfied: colorama in c:\\users\\j_aka\\anaconda3\\envs\\mlops_projet\\lib\\site-packages (from click<9,>=7.0->mlflow-skinny==3.5.0->mlflow) (0.4.6)\n",
      "Requirement already satisfied: cffi>=1.12 in c:\\users\\j_aka\\anaconda3\\envs\\mlops_projet\\lib\\site-packages (from cryptography<47,>=43.0.0->mlflow) (2.0.0)\n",
      "Requirement already satisfied: google-auth~=2.0 in c:\\users\\j_aka\\anaconda3\\envs\\mlops_projet\\lib\\site-packages (from databricks-sdk<1,>=0.20.0->mlflow-skinny==3.5.0->mlflow) (2.38.0)\n",
      "Requirement already satisfied: pywin32>=304 in c:\\users\\j_aka\\anaconda3\\envs\\mlops_projet\\lib\\site-packages (from docker<8,>=4.0.0->mlflow) (311)\n",
      "Requirement already satisfied: urllib3>=1.26.0 in c:\\users\\j_aka\\anaconda3\\envs\\mlops_projet\\lib\\site-packages (from docker<8,>=4.0.0->mlflow) (2.5.0)\n",
      "Requirement already satisfied: starlette<0.49.0,>=0.40.0 in c:\\users\\j_aka\\anaconda3\\envs\\mlops_projet\\lib\\site-packages (from fastapi<1->mlflow-skinny==3.5.0->mlflow) (0.48.0)\n",
      "Requirement already satisfied: authlib>=1.5.2 in c:\\users\\j_aka\\anaconda3\\envs\\mlops_projet\\lib\\site-packages (from fastmcp<3,>=2.0.0->mlflow) (1.6.5)\n",
      "Requirement already satisfied: cyclopts>=3.0.0 in c:\\users\\j_aka\\anaconda3\\envs\\mlops_projet\\lib\\site-packages (from fastmcp<3,>=2.0.0->mlflow) (3.24.0)\n",
      "Requirement already satisfied: exceptiongroup>=1.2.2 in c:\\users\\j_aka\\anaconda3\\envs\\mlops_projet\\lib\\site-packages (from fastmcp<3,>=2.0.0->mlflow) (1.3.0)\n",
      "Requirement already satisfied: httpx>=0.28.1 in c:\\users\\j_aka\\anaconda3\\envs\\mlops_projet\\lib\\site-packages (from fastmcp<3,>=2.0.0->mlflow) (0.28.1)\n",
      "Requirement already satisfied: mcp<1.17.0,>=1.12.4 in c:\\users\\j_aka\\anaconda3\\envs\\mlops_projet\\lib\\site-packages (from fastmcp<3,>=2.0.0->mlflow) (1.16.0)\n",
      "Requirement already satisfied: openapi-core>=0.19.5 in c:\\users\\j_aka\\anaconda3\\envs\\mlops_projet\\lib\\site-packages (from fastmcp<3,>=2.0.0->mlflow) (0.19.5)\n",
      "Requirement already satisfied: openapi-pydantic>=0.5.1 in c:\\users\\j_aka\\anaconda3\\envs\\mlops_projet\\lib\\site-packages (from fastmcp<3,>=2.0.0->mlflow) (0.5.1)\n",
      "Requirement already satisfied: pyperclip>=1.9.0 in c:\\users\\j_aka\\anaconda3\\envs\\mlops_projet\\lib\\site-packages (from fastmcp<3,>=2.0.0->mlflow) (1.11.0)\n",
      "Requirement already satisfied: rich>=13.9.4 in c:\\users\\j_aka\\anaconda3\\envs\\mlops_projet\\lib\\site-packages (from fastmcp<3,>=2.0.0->mlflow) (14.2.0)\n",
      "Requirement already satisfied: blinker>=1.9.0 in c:\\users\\j_aka\\anaconda3\\envs\\mlops_projet\\lib\\site-packages (from Flask<4->mlflow) (1.9.0)\n",
      "Requirement already satisfied: itsdangerous>=2.2.0 in c:\\users\\j_aka\\anaconda3\\envs\\mlops_projet\\lib\\site-packages (from Flask<4->mlflow) (2.2.0)\n",
      "Requirement already satisfied: jinja2>=3.1.2 in c:\\users\\j_aka\\anaconda3\\envs\\mlops_projet\\lib\\site-packages (from Flask<4->mlflow) (3.1.6)\n",
      "Requirement already satisfied: markupsafe>=2.1.1 in c:\\users\\j_aka\\anaconda3\\envs\\mlops_projet\\lib\\site-packages (from Flask<4->mlflow) (3.0.2)\n",
      "Requirement already satisfied: werkzeug>=3.1.0 in c:\\users\\j_aka\\anaconda3\\envs\\mlops_projet\\lib\\site-packages (from Flask<4->mlflow) (3.1.1)\n",
      "Requirement already satisfied: gitdb<5,>=4.0.1 in c:\\users\\j_aka\\anaconda3\\envs\\mlops_projet\\lib\\site-packages (from gitpython<4,>=3.1.9->mlflow-skinny==3.5.0->mlflow) (4.0.12)\n",
      "Requirement already satisfied: smmap<6,>=3.0.1 in c:\\users\\j_aka\\anaconda3\\envs\\mlops_projet\\lib\\site-packages (from gitdb<5,>=4.0.1->gitpython<4,>=3.1.9->mlflow-skinny==3.5.0->mlflow) (5.0.2)\n",
      "Requirement already satisfied: pyasn1-modules>=0.2.1 in c:\\users\\j_aka\\anaconda3\\envs\\mlops_projet\\lib\\site-packages (from google-auth~=2.0->databricks-sdk<1,>=0.20.0->mlflow-skinny==3.5.0->mlflow) (0.4.2)\n",
      "Requirement already satisfied: rsa<5,>=3.1.4 in c:\\users\\j_aka\\anaconda3\\envs\\mlops_projet\\lib\\site-packages (from google-auth~=2.0->databricks-sdk<1,>=0.20.0->mlflow-skinny==3.5.0->mlflow) (4.7.2)\n",
      "Requirement already satisfied: graphql-core<3.3,>=3.1 in c:\\users\\j_aka\\anaconda3\\envs\\mlops_projet\\lib\\site-packages (from graphene<4->mlflow) (3.2.6)\n",
      "Requirement already satisfied: graphql-relay<3.3,>=3.1 in c:\\users\\j_aka\\anaconda3\\envs\\mlops_projet\\lib\\site-packages (from graphene<4->mlflow) (3.2.0)\n",
      "Requirement already satisfied: python-dateutil<3,>=2.7.0 in c:\\users\\j_aka\\anaconda3\\envs\\mlops_projet\\lib\\site-packages (from graphene<4->mlflow) (2.9.0.post0)\n",
      "Requirement already satisfied: zipp>=3.20 in c:\\users\\j_aka\\anaconda3\\envs\\mlops_projet\\lib\\site-packages (from importlib_metadata!=4.7.0,<9,>=3.7.0->mlflow-skinny==3.5.0->mlflow) (3.21.0)\n",
      "Requirement already satisfied: contourpy>=1.0.1 in c:\\users\\j_aka\\anaconda3\\envs\\mlops_projet\\lib\\site-packages (from matplotlib<4->mlflow) (1.3.1)\n",
      "Requirement already satisfied: cycler>=0.10 in c:\\users\\j_aka\\anaconda3\\envs\\mlops_projet\\lib\\site-packages (from matplotlib<4->mlflow) (0.11.0)\n",
      "Requirement already satisfied: fonttools>=4.22.0 in c:\\users\\j_aka\\anaconda3\\envs\\mlops_projet\\lib\\site-packages (from matplotlib<4->mlflow) (4.60.1)\n",
      "Requirement already satisfied: kiwisolver>=1.3.1 in c:\\users\\j_aka\\anaconda3\\envs\\mlops_projet\\lib\\site-packages (from matplotlib<4->mlflow) (1.4.8)\n",
      "Requirement already satisfied: pillow>=8 in c:\\users\\j_aka\\anaconda3\\envs\\mlops_projet\\lib\\site-packages (from matplotlib<4->mlflow) (11.1.0)\n",
      "Requirement already satisfied: pyparsing>=2.3.1 in c:\\users\\j_aka\\anaconda3\\envs\\mlops_projet\\lib\\site-packages (from matplotlib<4->mlflow) (3.2.0)\n",
      "Requirement already satisfied: anyio>=4.5 in c:\\users\\j_aka\\anaconda3\\envs\\mlops_projet\\lib\\site-packages (from mcp<1.17.0,>=1.12.4->fastmcp<3,>=2.0.0->mlflow) (4.11.0)\n",
      "Requirement already satisfied: httpx-sse>=0.4 in c:\\users\\j_aka\\anaconda3\\envs\\mlops_projet\\lib\\site-packages (from mcp<1.17.0,>=1.12.4->fastmcp<3,>=2.0.0->mlflow) (0.4.3)\n",
      "Requirement already satisfied: jsonschema>=4.20.0 in c:\\users\\j_aka\\anaconda3\\envs\\mlops_projet\\lib\\site-packages (from mcp<1.17.0,>=1.12.4->fastmcp<3,>=2.0.0->mlflow) (4.25.0)\n",
      "Requirement already satisfied: pydantic-settings>=2.5.2 in c:\\users\\j_aka\\anaconda3\\envs\\mlops_projet\\lib\\site-packages (from mcp<1.17.0,>=1.12.4->fastmcp<3,>=2.0.0->mlflow) (2.11.0)\n",
      "Requirement already satisfied: python-multipart>=0.0.9 in c:\\users\\j_aka\\anaconda3\\envs\\mlops_projet\\lib\\site-packages (from mcp<1.17.0,>=1.12.4->fastmcp<3,>=2.0.0->mlflow) (0.0.20)\n",
      "Requirement already satisfied: sse-starlette>=1.6.1 in c:\\users\\j_aka\\anaconda3\\envs\\mlops_projet\\lib\\site-packages (from mcp<1.17.0,>=1.12.4->fastmcp<3,>=2.0.0->mlflow) (3.0.2)\n",
      "Requirement already satisfied: opentelemetry-semantic-conventions==0.58b0 in c:\\users\\j_aka\\anaconda3\\envs\\mlops_projet\\lib\\site-packages (from opentelemetry-sdk<3,>=1.9.0->mlflow-skinny==3.5.0->mlflow) (0.58b0)\n",
      "Requirement already satisfied: pytz>=2020.1 in c:\\users\\j_aka\\anaconda3\\envs\\mlops_projet\\lib\\site-packages (from pandas<3->mlflow) (2024.1)\n",
      "Requirement already satisfied: tzdata>=2022.7 in c:\\users\\j_aka\\anaconda3\\envs\\mlops_projet\\lib\\site-packages (from pandas<3->mlflow) (2025.2)\n",
      "Requirement already satisfied: annotated-types>=0.6.0 in c:\\users\\j_aka\\anaconda3\\envs\\mlops_projet\\lib\\site-packages (from pydantic<3,>=1.10.8->mlflow-skinny==3.5.0->mlflow) (0.7.0)\n",
      "Requirement already satisfied: pydantic-core==2.41.4 in c:\\users\\j_aka\\anaconda3\\envs\\mlops_projet\\lib\\site-packages (from pydantic<3,>=1.10.8->mlflow-skinny==3.5.0->mlflow) (2.41.4)\n",
      "Requirement already satisfied: typing-inspection>=0.4.2 in c:\\users\\j_aka\\anaconda3\\envs\\mlops_projet\\lib\\site-packages (from pydantic<3,>=1.10.8->mlflow-skinny==3.5.0->mlflow) (0.4.2)\n",
      "Requirement already satisfied: six>=1.5 in c:\\users\\j_aka\\anaconda3\\envs\\mlops_projet\\lib\\site-packages (from python-dateutil<3,>=2.7.0->graphene<4->mlflow) (1.17.0)\n",
      "Requirement already satisfied: charset_normalizer<4,>=2 in c:\\users\\j_aka\\anaconda3\\envs\\mlops_projet\\lib\\site-packages (from requests<3,>=2.17.3->mlflow-skinny==3.5.0->mlflow) (3.3.2)\n",
      "Requirement already satisfied: idna<4,>=2.5 in c:\\users\\j_aka\\anaconda3\\envs\\mlops_projet\\lib\\site-packages (from requests<3,>=2.17.3->mlflow-skinny==3.5.0->mlflow) (3.7)\n",
      "Requirement already satisfied: certifi>=2017.4.17 in c:\\users\\j_aka\\anaconda3\\envs\\mlops_projet\\lib\\site-packages (from requests<3,>=2.17.3->mlflow-skinny==3.5.0->mlflow) (2025.10.5)\n",
      "Requirement already satisfied: pyasn1>=0.1.3 in c:\\users\\j_aka\\anaconda3\\envs\\mlops_projet\\lib\\site-packages (from rsa<5,>=3.1.4->google-auth~=2.0->databricks-sdk<1,>=0.20.0->mlflow-skinny==3.5.0->mlflow) (0.6.1)\n",
      "Requirement already satisfied: joblib>=1.2.0 in c:\\users\\j_aka\\anaconda3\\envs\\mlops_projet\\lib\\site-packages (from scikit-learn<2->mlflow) (1.5.2)\n",
      "Requirement already satisfied: threadpoolctl>=3.1.0 in c:\\users\\j_aka\\anaconda3\\envs\\mlops_projet\\lib\\site-packages (from scikit-learn<2->mlflow) (3.5.0)\n",
      "Requirement already satisfied: greenlet>=1 in c:\\users\\j_aka\\anaconda3\\envs\\mlops_projet\\lib\\site-packages (from sqlalchemy<3,>=1.4.0->mlflow) (3.2.4)\n",
      "Requirement already satisfied: sniffio>=1.1 in c:\\users\\j_aka\\anaconda3\\envs\\mlops_projet\\lib\\site-packages (from anyio>=4.5->mcp<1.17.0,>=1.12.4->fastmcp<3,>=2.0.0->mlflow) (1.3.1)\n",
      "Requirement already satisfied: h11>=0.8 in c:\\users\\j_aka\\anaconda3\\envs\\mlops_projet\\lib\\site-packages (from uvicorn<1->mlflow-skinny==3.5.0->mlflow) (0.16.0)\n",
      "Requirement already satisfied: pycparser in c:\\users\\j_aka\\anaconda3\\envs\\mlops_projet\\lib\\site-packages (from cffi>=1.12->cryptography<47,>=43.0.0->mlflow) (2.23)\n",
      "Requirement already satisfied: attrs>=23.1.0 in c:\\users\\j_aka\\anaconda3\\envs\\mlops_projet\\lib\\site-packages (from cyclopts>=3.0.0->fastmcp<3,>=2.0.0->mlflow) (24.3.0)\n",
      "Requirement already satisfied: docstring-parser>=0.15 in c:\\users\\j_aka\\anaconda3\\envs\\mlops_projet\\lib\\site-packages (from cyclopts>=3.0.0->fastmcp<3,>=2.0.0->mlflow) (0.17.0)\n",
      "Requirement already satisfied: rich-rst<2.0.0,>=1.3.1 in c:\\users\\j_aka\\anaconda3\\envs\\mlops_projet\\lib\\site-packages (from cyclopts>=3.0.0->fastmcp<3,>=2.0.0->mlflow) (1.3.2)\n",
      "Requirement already satisfied: docutils in c:\\users\\j_aka\\anaconda3\\envs\\mlops_projet\\lib\\site-packages (from rich-rst<2.0.0,>=1.3.1->cyclopts>=3.0.0->fastmcp<3,>=2.0.0->mlflow) (0.22.2)\n",
      "Requirement already satisfied: httpcore==1.* in c:\\users\\j_aka\\anaconda3\\envs\\mlops_projet\\lib\\site-packages (from httpx>=0.28.1->fastmcp<3,>=2.0.0->mlflow) (1.0.9)\n",
      "Requirement already satisfied: jsonschema-specifications>=2023.03.6 in c:\\users\\j_aka\\anaconda3\\envs\\mlops_projet\\lib\\site-packages (from jsonschema>=4.20.0->mcp<1.17.0,>=1.12.4->fastmcp<3,>=2.0.0->mlflow) (2023.7.1)\n",
      "Requirement already satisfied: referencing>=0.28.4 in c:\\users\\j_aka\\anaconda3\\envs\\mlops_projet\\lib\\site-packages (from jsonschema>=4.20.0->mcp<1.17.0,>=1.12.4->fastmcp<3,>=2.0.0->mlflow) (0.30.2)\n",
      "Requirement already satisfied: rpds-py>=0.7.1 in c:\\users\\j_aka\\anaconda3\\envs\\mlops_projet\\lib\\site-packages (from jsonschema>=4.20.0->mcp<1.17.0,>=1.12.4->fastmcp<3,>=2.0.0->mlflow) (0.22.3)\n",
      "Requirement already satisfied: isodate in c:\\users\\j_aka\\anaconda3\\envs\\mlops_projet\\lib\\site-packages (from openapi-core>=0.19.5->fastmcp<3,>=2.0.0->mlflow) (0.7.2)\n",
      "Requirement already satisfied: jsonschema-path<0.4.0,>=0.3.1 in c:\\users\\j_aka\\anaconda3\\envs\\mlops_projet\\lib\\site-packages (from openapi-core>=0.19.5->fastmcp<3,>=2.0.0->mlflow) (0.3.4)\n",
      "Requirement already satisfied: more-itertools in c:\\users\\j_aka\\anaconda3\\envs\\mlops_projet\\lib\\site-packages (from openapi-core>=0.19.5->fastmcp<3,>=2.0.0->mlflow) (10.8.0)\n",
      "Requirement already satisfied: openapi-schema-validator<0.7.0,>=0.6.0 in c:\\users\\j_aka\\anaconda3\\envs\\mlops_projet\\lib\\site-packages (from openapi-core>=0.19.5->fastmcp<3,>=2.0.0->mlflow) (0.6.3)\n",
      "Requirement already satisfied: openapi-spec-validator<0.8.0,>=0.7.1 in c:\\users\\j_aka\\anaconda3\\envs\\mlops_projet\\lib\\site-packages (from openapi-core>=0.19.5->fastmcp<3,>=2.0.0->mlflow) (0.7.2)\n",
      "Requirement already satisfied: parse in c:\\users\\j_aka\\anaconda3\\envs\\mlops_projet\\lib\\site-packages (from openapi-core>=0.19.5->fastmcp<3,>=2.0.0->mlflow) (1.20.2)\n",
      "Requirement already satisfied: pathable<0.5.0,>=0.4.1 in c:\\users\\j_aka\\anaconda3\\envs\\mlops_projet\\lib\\site-packages (from jsonschema-path<0.4.0,>=0.3.1->openapi-core>=0.19.5->fastmcp<3,>=2.0.0->mlflow) (0.4.4)\n",
      "Requirement already satisfied: rfc3339-validator in c:\\users\\j_aka\\anaconda3\\envs\\mlops_projet\\lib\\site-packages (from openapi-schema-validator<0.7.0,>=0.6.0->openapi-core>=0.19.5->fastmcp<3,>=2.0.0->mlflow) (0.1.4)\n",
      "Requirement already satisfied: lazy-object-proxy<2.0.0,>=1.7.1 in c:\\users\\j_aka\\anaconda3\\envs\\mlops_projet\\lib\\site-packages (from openapi-spec-validator<0.8.0,>=0.7.1->openapi-core>=0.19.5->fastmcp<3,>=2.0.0->mlflow) (1.12.0)\n",
      "Requirement already satisfied: email-validator>=2.0.0 in c:\\users\\j_aka\\anaconda3\\envs\\mlops_projet\\lib\\site-packages (from pydantic[email]>=2.11.7->fastmcp<3,>=2.0.0->mlflow) (2.3.0)\n",
      "Requirement already satisfied: dnspython>=2.0.0 in c:\\users\\j_aka\\anaconda3\\envs\\mlops_projet\\lib\\site-packages (from email-validator>=2.0.0->pydantic[email]>=2.11.7->fastmcp<3,>=2.0.0->mlflow) (2.8.0)\n",
      "Requirement already satisfied: markdown-it-py>=2.2.0 in c:\\users\\j_aka\\anaconda3\\envs\\mlops_projet\\lib\\site-packages (from rich>=13.9.4->fastmcp<3,>=2.0.0->mlflow) (4.0.0)\n",
      "Requirement already satisfied: pygments<3.0.0,>=2.13.0 in c:\\users\\j_aka\\anaconda3\\envs\\mlops_projet\\lib\\site-packages (from rich>=13.9.4->fastmcp<3,>=2.0.0->mlflow) (2.19.2)\n",
      "Requirement already satisfied: mdurl~=0.1 in c:\\users\\j_aka\\anaconda3\\envs\\mlops_projet\\lib\\site-packages (from markdown-it-py>=2.2.0->rich>=13.9.4->fastmcp<3,>=2.0.0->mlflow) (0.1.2)\n",
      "Requirement already satisfied: jinja2 in c:\\users\\j_aka\\anaconda3\\envs\\mlops_projet\\lib\\site-packages (3.1.6)\n",
      "Requirement already satisfied: MarkupSafe>=2.0 in c:\\users\\j_aka\\anaconda3\\envs\\mlops_projet\\lib\\site-packages (from jinja2) (3.0.2)\n",
      "Requirement already satisfied: Flask in c:\\users\\j_aka\\anaconda3\\envs\\mlops_projet\\lib\\site-packages (3.1.2)\n",
      "Requirement already satisfied: blinker>=1.9.0 in c:\\users\\j_aka\\anaconda3\\envs\\mlops_projet\\lib\\site-packages (from Flask) (1.9.0)\n",
      "Requirement already satisfied: click>=8.1.3 in c:\\users\\j_aka\\anaconda3\\envs\\mlops_projet\\lib\\site-packages (from Flask) (8.2.1)\n",
      "Requirement already satisfied: itsdangerous>=2.2.0 in c:\\users\\j_aka\\anaconda3\\envs\\mlops_projet\\lib\\site-packages (from Flask) (2.2.0)\n",
      "Requirement already satisfied: jinja2>=3.1.2 in c:\\users\\j_aka\\anaconda3\\envs\\mlops_projet\\lib\\site-packages (from Flask) (3.1.6)\n",
      "Requirement already satisfied: markupsafe>=2.1.1 in c:\\users\\j_aka\\anaconda3\\envs\\mlops_projet\\lib\\site-packages (from Flask) (3.0.2)\n",
      "Requirement already satisfied: werkzeug>=3.1.0 in c:\\users\\j_aka\\anaconda3\\envs\\mlops_projet\\lib\\site-packages (from Flask) (3.1.1)\n",
      "Requirement already satisfied: colorama in c:\\users\\j_aka\\anaconda3\\envs\\mlops_projet\\lib\\site-packages (from click>=8.1.3->Flask) (0.4.6)\n",
      "Requirement already satisfied: setuptools in c:\\users\\j_aka\\anaconda3\\envs\\mlops_projet\\lib\\site-packages (80.9.0)\n"
     ]
    }
   ],
   "source": [
    "#!pip install mlflow\n",
    "#!pip install --upgrade jinja2\n",
    "#!pip install --upgrade Flask\n",
    "#!pip install setuptools"
   ]
  },
  {
   "cell_type": "code",
   "execution_count": 2,
   "id": "5f06e5e8",
   "metadata": {},
   "outputs": [],
   "source": [
    "## Import de librairie\n",
    "import pandas as pd\n",
    "import mlflow\n",
    "from mlflow import MlflowClient\n",
    "from sklearn.ensemble import RandomForestClassifier\n",
    "from sklearn.compose import ColumnTransformer\n",
    "from sklearn.preprocessing import OneHotEncoder\n",
    "from sklearn.pipeline import Pipeline\n",
    "from pprint import pprint\n",
    "import joblib\n",
    "from sklearn import pipeline\n",
    "from sklearn.model_selection import train_test_split\n",
    "from sklearn.metrics import mean_absolute_error, mean_squared_error, r2_score\n",
    "from sklearn.metrics import accuracy_score, precision_score, recall_score, f1_score, classification_report, confusion_matrix"
   ]
  },
  {
   "cell_type": "code",
   "execution_count": 3,
   "id": "718cc184",
   "metadata": {},
   "outputs": [],
   "source": [
    "# Configuration de mon Mlflow sur un server local \n",
    "# à exéuter dans le terminal\n",
    "#!mlflow server --host 127.0.0.1 --port 8080"
   ]
  },
  {
   "cell_type": "code",
   "execution_count": 4,
   "id": "7ae5d0bd",
   "metadata": {},
   "outputs": [],
   "source": [
    "## Connecxion au serveur MLFlow\n",
    "client= MlflowClient(tracking_uri=\"http://127.0.0.1:8080\")\n",
    "## Configuration \n",
    "mlflow.set_tracking_uri(\"http://127.0.0.1:8080\")\n",
    "\n"
   ]
  },
  {
   "cell_type": "code",
   "execution_count": 5,
   "id": "1d90c317",
   "metadata": {},
   "outputs": [
    {
     "name": "stdout",
     "output_type": "stream",
     "text": [
      "[<Experiment: artifact_location='mlflow-artifacts:/606383372813198707', creation_time=1760806668542, experiment_id='606383372813198707', last_update_time=1760806668542, lifecycle_stage='active', name='TREE_Models', tags={'mlflow.experimentKind': 'custom_model_development'}>, <Experiment: artifact_location='mlflow-artifacts:/389458555972686615', creation_time=1760804935652, experiment_id='389458555972686615', last_update_time=1760804935652, lifecycle_stage='active', name='RLG_Models', tags={'mlflow.experimentKind': 'custom_model_development'}>, <Experiment: artifact_location='mlflow-artifacts:/668826699846372727', creation_time=1760799130123, experiment_id='668826699846372727', last_update_time=1760799130123, lifecycle_stage='active', name='RDF_Models', tags={'mlflow.experimentKind': 'custom_model_development'}>, <Experiment: artifact_location='mlflow-artifacts:/0', creation_time=1760798921200, experiment_id='0', last_update_time=1760798921200, lifecycle_stage='active', name='Default', tags={}>]\n"
     ]
    }
   ],
   "source": [
    "# Récupération de toutes les expériences MLflow\n",
    "all_experiments = client.search_experiments()\n",
    "# Affichage des expériences \n",
    "print(all_experiments)"
   ]
  },
  {
   "cell_type": "code",
   "execution_count": 6,
   "id": "ca058e8c",
   "metadata": {},
   "outputs": [
    {
     "data": {
      "text/plain": [
       "[<Experiment: artifact_location='mlflow-artifacts:/668826699846372727', creation_time=1760799130123, experiment_id='668826699846372727', last_update_time=1760799130123, lifecycle_stage='active', name='RDF_Models', tags={'mlflow.experimentKind': 'custom_model_development'}>]"
      ]
     },
     "execution_count": 6,
     "metadata": {},
     "output_type": "execute_result"
    }
   ],
   "source": [
    "# Recherche des expériences Mlflow Spécifique.\n",
    "client.search_experiments(filter_string=\"name = 'RDF_Models'\")"
   ]
  },
  {
   "cell_type": "markdown",
   "id": "a867c2ad",
   "metadata": {},
   "source": [
    "## Chargement du fichier"
   ]
  },
  {
   "cell_type": "code",
   "execution_count": 7,
   "id": "5779b97c",
   "metadata": {},
   "outputs": [
    {
     "name": "stdout",
     "output_type": "stream",
     "text": [
      "   person_age  person_income person_home_ownership  person_emp_length loan_intent loan_grade  loan_amnt  loan_int_rate  loan_status  loan_percent_income cb_person_default_on_file  cb_person_cred_hist_length\n",
      "0          22          59000                  RENT              123.0    PERSONAL          D      35000          16.02            1                 0.59                         Y                           3\n",
      "1          21           9600                   OWN                5.0   EDUCATION          B       1000          11.14            0                 0.10                         N                           2\n",
      "2          25           9600              MORTGAGE                1.0     MEDICAL          C       5500          12.87            1                 0.57                         N                           3\n"
     ]
    }
   ],
   "source": [
    "# Définition du chemin vers le fichier de  données \n",
    "data_dir = r\"C:\\Users\\j_aka\\Desktop\\mlops\\credit_risk_dataset.csv\"\n",
    "# Chargement de la données \n",
    "df = pd.read_csv(data_dir, delimiter=\",\") \n",
    "#Affichage des 3 premières lignes \n",
    "print(df.head(3).to_string())"
   ]
  },
  {
   "cell_type": "markdown",
   "id": "f08e4888",
   "metadata": {},
   "source": [
    "## Random Forest model"
   ]
  },
  {
   "cell_type": "code",
   "execution_count": null,
   "id": "771710da",
   "metadata": {},
   "outputs": [
    {
     "name": "stderr",
     "output_type": "stream",
     "text": [
      "2025/10/19 13:03:39 WARNING mlflow.models.model: `artifact_path` is deprecated. Please use `name` instead.\n",
      "c:\\Users\\j_aka\\anaconda3\\envs\\mlops_projet\\Lib\\site-packages\\mlflow\\types\\utils.py:452: UserWarning: Hint: Inferred schema contains integer column(s). Integer columns in Python cannot represent missing values. If your input data contains missing values at inference time, it will be encoded as floats and will cause a schema enforcement error. The best way to avoid this problem is to infer the model schema based on a realistic data sample (training dataset) that includes missing values. Alternatively, you can declare integer columns as doubles (float64) whenever these columns may have missing values. See `Handling Integers With Missing Values <https://www.mlflow.org/docs/latest/models.html#handling-integers-with-missing-values>`_ for more details.\n",
      "  warnings.warn(\n",
      "c:\\Users\\j_aka\\anaconda3\\envs\\mlops_projet\\Lib\\site-packages\\mlflow\\types\\utils.py:452: UserWarning: Hint: Inferred schema contains integer column(s). Integer columns in Python cannot represent missing values. If your input data contains missing values at inference time, it will be encoded as floats and will cause a schema enforcement error. The best way to avoid this problem is to infer the model schema based on a realistic data sample (training dataset) that includes missing values. Alternatively, you can declare integer columns as doubles (float64) whenever these columns may have missing values. See `Handling Integers With Missing Values <https://www.mlflow.org/docs/latest/models.html#handling-integers-with-missing-values>`_ for more details.\n",
      "  warnings.warn(\n"
     ]
    },
    {
     "name": "stdout",
     "output_type": "stream",
     "text": [
      "Modèle entraîné et logué dans MLflow avec succès.\n",
      "\n",
      "Rapport de classification :\n",
      "               precision    recall  f1-score   support\n",
      "\n",
      "           0       0.91      1.00      0.95      5072\n",
      "           1       0.98      0.67      0.79      1445\n",
      "\n",
      "    accuracy                           0.92      6517\n",
      "   macro avg       0.95      0.83      0.87      6517\n",
      "weighted avg       0.93      0.92      0.92      6517\n",
      "\n",
      "\n",
      "Matrice de confusion :\n",
      " [[5050   22]\n",
      " [ 483  962]]\n",
      "Métriques : {'accuracy': 0.9225103575264693, 'precision': 0.9776422764227642, 'recall': 0.6657439446366782, 'f1': 0.7920955125566077}\n",
      "🏃 View run RDF_Run at: http://127.0.0.1:8080/#/experiments/668826699846372727/runs/314e2e6d576b451d9f692cc307dfee8b\n",
      "🧪 View experiment at: http://127.0.0.1:8080/#/experiments/668826699846372727\n"
     ]
    }
   ],
   "source": [
    "# Définition des Features et de la cible \n",
    "target_col = 'loan_status'\n",
    "X = df.drop(columns=['loan_status'])    \n",
    "y = df['loan_status']\n",
    "\n",
    "# Split des données \n",
    "X_train, X_val, y_train, y_val = train_test_split(X, y, test_size=0.2, random_state=42)\n",
    "\n",
    "# Colonne numérique et colonne catégorielle \n",
    "num_features = X.select_dtypes(include=[\"int64\", \"float64\"]).columns.tolist()\n",
    "cat_features = X.select_dtypes(include=[\"object\", \"category\"]).columns.tolist()\n",
    "\n",
    "preprocessor = ColumnTransformer(\n",
    "    transformers= [\n",
    "        (\"num_features\", \"passthrough\",num_features),\n",
    "        (\"cat_features\", OneHotEncoder(handle_unknown=\"ignore\"),cat_features)\n",
    "    ]\n",
    ")\n",
    "\n",
    "\n",
    "# Hyperparamètre du modèle\n",
    "params = {\n",
    "    \"n_estimators\": 100,\n",
    "    \"max_depth\": 6,\n",
    "    \"min_samples_split\": 10,\n",
    "    \"min_samples_leaf\": 4,\n",
    "    \"bootstrap\": True,\n",
    "    \"oob_score\": False,\n",
    "    \"random_state\": 888,\n",
    "}\n",
    "# Nom du modèle : \n",
    "mlflow.set_experiment(\"RDF_Models\")\n",
    "# Nom du run pour cette itération d'entraînement\n",
    "run_name = \"RDF_Run\"\n",
    "# les artefacts du modèle\n",
    "artifact_path = \"RDF_artefacts\"\n",
    "# Fermer tout run précédent\n",
    "mlflow.end_run()\n",
    "\n",
    "with mlflow.start_run(run_name=run_name):\n",
    "    # Tag de version du modèle\n",
    "    mlflow.set_tag(\"version\", \"v1.0\")\n",
    "\n",
    "# Encodage et entrainement du modèle \n",
    "    pipeline_fr = Pipeline(steps=[\n",
    "    (\"processor\", preprocessor),\n",
    "    (\"model\", RandomForestClassifier(**params))\n",
    "   ])\n",
    "    \n",
    "# Entrainement du modèle\n",
    "    pipeline_fr.fit(X_train,y_train)\n",
    "\n",
    "# Prédiction du modèle\n",
    "    y_proba = pipeline_fr.predict_proba(X_val)[:, 1]\n",
    "    y_pred = (y_proba >= 0.3).astype(int)\n",
    "\n",
    "# Calcul des métriques\n",
    "    accuracy = accuracy_score(y_val, y_pred)\n",
    "    precision = precision_score(y_val, y_pred)\n",
    "    recall = recall_score(y_val, y_pred)\n",
    "    f1 = f1_score(y_val, y_pred)\n",
    "    metrics = {\"accuracy\": accuracy, \"precision\": precision, \"recall\": recall, \"f1\": f1\n",
    "    }\n",
    "\n",
    "    mlflow.log_params(params)\n",
    "    mlflow.log_metrics(metrics)\n",
    "    mlflow.sklearn.log_model(\n",
    "        sk_model= pipeline_fr, \n",
    "        input_example=X_val, \n",
    "        artifact_path=artifact_path\n",
    "    ) \n",
    "\n",
    "    print(\"Modèle entraîné et logué dans MLflow avec succès.\")\n",
    "    print(\"\\nRapport de classification :\\n\", classification_report(y_val, y_pred))\n",
    "    print(\"\\nMatrice de confusion :\\n\", confusion_matrix(y_val, y_pred))\n",
    "    print(\"Métriques :\", metrics)"
   ]
  },
  {
   "cell_type": "code",
   "execution_count": 9,
   "id": "1e7b2d58",
   "metadata": {},
   "outputs": [],
   "source": [
    "mlflow.active_run()\n"
   ]
  }
 ],
 "metadata": {
  "kernelspec": {
   "display_name": "mlops_projet",
   "language": "python",
   "name": "python3"
  },
  "language_info": {
   "codemirror_mode": {
    "name": "ipython",
    "version": 3
   },
   "file_extension": ".py",
   "mimetype": "text/x-python",
   "name": "python",
   "nbconvert_exporter": "python",
   "pygments_lexer": "ipython3",
   "version": "3.12.12"
  }
 },
 "nbformat": 4,
 "nbformat_minor": 5
}
