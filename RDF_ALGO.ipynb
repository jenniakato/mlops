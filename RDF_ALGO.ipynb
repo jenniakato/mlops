{
 "cells": [
  {
   "cell_type": "markdown",
   "id": "062b8dbb",
   "metadata": {},
   "source": [
    "## MLflow Configuration"
   ]
  },
  {
   "cell_type": "code",
   "execution_count": 1,
   "id": "5d0cc351",
   "metadata": {},
   "outputs": [],
   "source": [
    "#!pip install mlflow\n",
    "#!pip install --upgrade jinja2\n",
    "#!pip install --upgrade Flask\n",
    "#!pip install setuptools"
   ]
  },
  {
   "cell_type": "code",
   "execution_count": 2,
   "id": "5f06e5e8",
   "metadata": {},
   "outputs": [],
   "source": [
    "## Import de librairie\n",
    "import pandas as pd\n",
    "import mlflow\n",
    "from mlflow import MlflowClient\n",
    "from sklearn.ensemble import RandomForestClassifier\n",
    "from sklearn.compose import ColumnTransformer\n",
    "from sklearn.preprocessing import OneHotEncoder\n",
    "from sklearn.pipeline import Pipeline\n",
    "from pprint import pprint\n",
    "import joblib\n",
    "from sklearn import pipeline\n",
    "from sklearn.model_selection import train_test_split\n",
    "from sklearn.metrics import mean_absolute_error, mean_squared_error, r2_score\n",
    "from sklearn.metrics import accuracy_score, precision_score, recall_score, f1_score, classification_report, confusion_matrix"
   ]
  },
  {
   "cell_type": "code",
   "execution_count": 3,
   "id": "718cc184",
   "metadata": {},
   "outputs": [],
   "source": [
    "# Configuration de mon Mlflow sur un server local \n",
    "# à exéuter dans le terminal\n",
    "#!mlflow server --host 127.0.0.1 --port 8080"
   ]
  },
  {
   "cell_type": "code",
   "execution_count": 4,
   "id": "7ae5d0bd",
   "metadata": {},
   "outputs": [],
   "source": [
    "## Connecxion au serveur MLFlow\n",
    "client= MlflowClient(tracking_uri=\"http://127.0.0.1:8080\")\n",
    "## Configuration \n",
    "mlflow.set_tracking_uri(\"http://127.0.0.1:8080\")\n",
    "\n"
   ]
  },
  {
   "cell_type": "code",
   "execution_count": 5,
   "id": "1d90c317",
   "metadata": {},
   "outputs": [
    {
     "name": "stdout",
     "output_type": "stream",
     "text": [
      "[<Experiment: artifact_location='mlflow-artifacts:/952359116459871595', creation_time=1760986536774, experiment_id='952359116459871595', last_update_time=1760986536774, lifecycle_stage='active', name='TREE_Models', tags={'mlflow.experimentKind': 'custom_model_development'}>, <Experiment: artifact_location='file:///C:/Users/j_aka/Desktop/mlops/my_app/mlruns/0', creation_time=1760877394979, experiment_id='0', last_update_time=1760877394979, lifecycle_stage='active', name='Default', tags={}>]\n"
     ]
    }
   ],
   "source": [
    "# Récupération de toutes les expériences MLflow\n",
    "all_experiments = client.search_experiments()\n",
    "# Affichage des expériences \n",
    "print(all_experiments)"
   ]
  },
  {
   "cell_type": "code",
   "execution_count": 6,
   "id": "ca058e8c",
   "metadata": {},
   "outputs": [
    {
     "data": {
      "text/plain": [
       "[]"
      ]
     },
     "execution_count": 6,
     "metadata": {},
     "output_type": "execute_result"
    }
   ],
   "source": [
    "# Recherche des expériences Mlflow Spécifique.\n",
    "client.search_experiments(filter_string=\"name = 'RDF_Models'\")"
   ]
  },
  {
   "cell_type": "markdown",
   "id": "a867c2ad",
   "metadata": {},
   "source": [
    "## Chargement du fichier"
   ]
  },
  {
   "cell_type": "code",
   "execution_count": 7,
   "id": "5779b97c",
   "metadata": {},
   "outputs": [
    {
     "name": "stdout",
     "output_type": "stream",
     "text": [
      "   person_age  person_income person_home_ownership  person_emp_length loan_intent loan_grade  loan_amnt  loan_int_rate  loan_status  loan_percent_income cb_person_default_on_file  cb_person_cred_hist_length\n",
      "0          22          59000                  RENT              123.0    PERSONAL          D      35000          16.02            1                 0.59                         Y                           3\n",
      "1          21           9600                   OWN                5.0   EDUCATION          B       1000          11.14            0                 0.10                         N                           2\n",
      "2          25           9600              MORTGAGE                1.0     MEDICAL          C       5500          12.87            1                 0.57                         N                           3\n"
     ]
    }
   ],
   "source": [
    "# Définition du chemin vers le fichier de  données \n",
    "data_dir = r\"C:\\Users\\j_aka\\Desktop\\mlops\\credit_risk_dataset.csv\"\n",
    "# Chargement de la données \n",
    "df = pd.read_csv(data_dir, delimiter=\",\") \n",
    "#Affichage des 3 premières lignes \n",
    "print(df.head(3).to_string())"
   ]
  },
  {
   "cell_type": "markdown",
   "id": "f08e4888",
   "metadata": {},
   "source": [
    "## Random Forest model"
   ]
  },
  {
   "cell_type": "code",
   "execution_count": 9,
   "id": "771710da",
   "metadata": {},
   "outputs": [
    {
     "name": "stderr",
     "output_type": "stream",
     "text": [
      "2025/10/20 21:08:46 INFO mlflow.tracking.fluent: Experiment with name 'RDF_Models' does not exist. Creating a new experiment.\n",
      "c:\\Users\\j_aka\\anaconda3\\envs\\mlops_projet\\Lib\\site-packages\\mlflow\\types\\utils.py:452: UserWarning: Hint: Inferred schema contains integer column(s). Integer columns in Python cannot represent missing values. If your input data contains missing values at inference time, it will be encoded as floats and will cause a schema enforcement error. The best way to avoid this problem is to infer the model schema based on a realistic data sample (training dataset) that includes missing values. Alternatively, you can declare integer columns as doubles (float64) whenever these columns may have missing values. See `Handling Integers With Missing Values <https://www.mlflow.org/docs/latest/models.html#handling-integers-with-missing-values>`_ for more details.\n",
      "  warnings.warn(\n",
      "c:\\Users\\j_aka\\anaconda3\\envs\\mlops_projet\\Lib\\site-packages\\mlflow\\types\\utils.py:452: UserWarning: Hint: Inferred schema contains integer column(s). Integer columns in Python cannot represent missing values. If your input data contains missing values at inference time, it will be encoded as floats and will cause a schema enforcement error. The best way to avoid this problem is to infer the model schema based on a realistic data sample (training dataset) that includes missing values. Alternatively, you can declare integer columns as doubles (float64) whenever these columns may have missing values. See `Handling Integers With Missing Values <https://www.mlflow.org/docs/latest/models.html#handling-integers-with-missing-values>`_ for more details.\n",
      "  warnings.warn(\n"
     ]
    },
    {
     "name": "stdout",
     "output_type": "stream",
     "text": [
      "Modèle entraîné et logué dans MLflow avec succès.\n",
      "\n",
      "Rapport de classification :\n",
      "               precision    recall  f1-score   support\n",
      "\n",
      "           0       0.93      0.93      0.93      5072\n",
      "           1       0.76      0.75      0.75      1445\n",
      "\n",
      "    accuracy                           0.89      6517\n",
      "   macro avg       0.85      0.84      0.84      6517\n",
      "weighted avg       0.89      0.89      0.89      6517\n",
      "\n",
      "\n",
      "Matrice de confusion :\n",
      " [[4739  333]\n",
      " [ 368 1077]]\n",
      "Métriques : {'accuracy': 0.8924351695565444, 'precision': 0.7638297872340426, 'recall': 0.7453287197231834, 'f1': 0.7544658493870403}\n",
      "🏃 View run RDF_Run at: http://127.0.0.1:8080/#/experiments/244462297279921565/runs/3cebcdf2d5194a50b049c96d8252a1b4\n",
      "🧪 View experiment at: http://127.0.0.1:8080/#/experiments/244462297279921565\n"
     ]
    }
   ],
   "source": [
    "# Définition des Features et de la cible \n",
    "target_col = 'loan_status'\n",
    "X = df.drop(columns=['loan_status'])    \n",
    "y = df['loan_status']\n",
    "\n",
    "# Split des données \n",
    "X_train, X_val, y_train, y_val = train_test_split(X, y, test_size=0.2, random_state=42)\n",
    "\n",
    "\n",
    "# Colonne numérique et colonne catégorielle \n",
    "num_features = X.select_dtypes(include=[\"int64\", \"float64\"]).columns.tolist()\n",
    "cat_features = X.select_dtypes(include=[\"object\", \"category\"]).columns.tolist()\n",
    "\n",
    "# Conversion des colonnes numériques en float64\n",
    "X[num_features] = X[num_features].astype(\"float64\")\n",
    "\n",
    "#Encoder et Gérer les données Nan \n",
    "preprocessor = ColumnTransformer(\n",
    "    transformers= [\n",
    "        (\"num_features\", \"passthrough\",num_features),\n",
    "        (\"cat_features\", OneHotEncoder(handle_unknown=\"ignore\"),cat_features)\n",
    "    ]\n",
    ")\n",
    "\n",
    "\n",
    "# Hyperparamètre du modèle\n",
    "params = {\n",
    "    \"n_estimators\": 100,\n",
    "    \"max_depth\": 6,\n",
    "    \"min_samples_split\": 10,\n",
    "    \"min_samples_leaf\": 4,\n",
    "    \"bootstrap\": True,\n",
    "    \"oob_score\": False,\n",
    "    \"random_state\": 888,\n",
    "}\n",
    "# Nom du modèle : \n",
    "mlflow.set_experiment(\"RDF_Models\")\n",
    "# Nom du run pour cette itération d'entraînement\n",
    "run_name = \"RDF_Run\"\n",
    "# les artefacts du modèle\n",
    "artifact_path = \"RDF_artefacts\"\n",
    "# Fermer tout run précédent\n",
    "#mlflow.end_run()\n",
    "\n",
    "with mlflow.start_run(run_name=run_name):\n",
    "    # Tag de version du modèle\n",
    "    mlflow.set_tag(\"version\", \"v1.0\")\n",
    "\n",
    "# Encodage et entrainement du modèle \n",
    "    pipeline_fr = Pipeline(steps=[\n",
    "    (\"processor\", preprocessor),\n",
    "    (\"model\", RandomForestClassifier(**params))\n",
    "   ])\n",
    "    \n",
    "# Entrainement du modèle\n",
    "    pipeline_fr.fit(X_train,y_train)\n",
    "\n",
    "# Prédiction du modèle\n",
    "    y_proba = pipeline_fr.predict_proba(X_val)[:, 1]\n",
    "    y_pred = (y_proba >= 0.3).astype(int)\n",
    "\n",
    "# Calcul des métriques\n",
    "    accuracy = accuracy_score(y_val, y_pred)\n",
    "    precision = precision_score(y_val, y_pred)\n",
    "    recall = recall_score(y_val, y_pred)\n",
    "    f1 = f1_score(y_val, y_pred)\n",
    "    metrics = {\"accuracy\": accuracy, \"precision\": precision, \"recall\": recall, \"f1\": f1\n",
    "    }\n",
    "\n",
    "    mlflow.log_params(params)\n",
    "    mlflow.log_metrics(metrics)\n",
    "    mlflow.sklearn.log_model(\n",
    "        sk_model= pipeline_fr, \n",
    "        input_example=X_val, \n",
    "        name = artifact_path\n",
    "    ) \n",
    "\n",
    "    print(\"Modèle entraîné et logué dans MLflow avec succès.\")\n",
    "    print(\"\\nRapport de classification :\\n\", classification_report(y_val, y_pred))\n",
    "    print(\"\\nMatrice de confusion :\\n\", confusion_matrix(y_val, y_pred))\n",
    "    print(\"Métriques :\", metrics)"
   ]
  },
  {
   "cell_type": "code",
   "execution_count": null,
   "id": "1e7b2d58",
   "metadata": {},
   "outputs": [],
   "source": [
    "mlflow.active_run()\n"
   ]
  }
 ],
 "metadata": {
  "kernelspec": {
   "display_name": "mlops_projet",
   "language": "python",
   "name": "python3"
  },
  "language_info": {
   "codemirror_mode": {
    "name": "ipython",
    "version": 3
   },
   "file_extension": ".py",
   "mimetype": "text/x-python",
   "name": "python",
   "nbconvert_exporter": "python",
   "pygments_lexer": "ipython3",
   "version": "3.12.12"
  }
 },
 "nbformat": 4,
 "nbformat_minor": 5
}
