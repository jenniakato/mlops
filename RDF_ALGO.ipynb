{
 "cells": [
  {
   "cell_type": "markdown",
   "id": "062b8dbb",
   "metadata": {},
   "source": [
    "## MLflow Configuration"
   ]
  },
  {
   "cell_type": "code",
   "execution_count": null,
   "id": "6fc9adf0",
   "metadata": {},
   "outputs": [],
   "source": [
    "# Installation de librairie \n",
    "!pip install mlflow\n",
    "!pip install --upgrade jinja2\n",
    "!pip install --upgrade Flask\n",
    "!pip install setuptools"
   ]
  },
  {
   "cell_type": "code",
   "execution_count": null,
   "id": "5f06e5e8",
   "metadata": {},
   "outputs": [],
   "source": [
    "from mlflow import MlflowClient\n",
    "from pprint import pprint\n",
    "from sklearn.ensemble import RandomForestRegressor"
   ]
  },
  {
   "cell_type": "code",
   "execution_count": null,
   "id": "718cc184",
   "metadata": {},
   "outputs": [],
   "source": [
    "# Configuration de mon Mlflow sur un server local \n",
    "!mlflow server --host 127.0.0.1 --port 8080"
   ]
  },
  {
   "cell_type": "code",
   "execution_count": null,
   "id": "7ae5d0bd",
   "metadata": {},
   "outputs": [],
   "source": [
    "## Connection au port \n",
    "ML= MlflowClient(tracking_uri=\"http://127.0.0.1:8080\")"
   ]
  },
  {
   "cell_type": "code",
   "execution_count": null,
   "id": "1d90c317",
   "metadata": {},
   "outputs": [],
   "source": [
    "#Suivit des expériments\n",
    "all_experiments = ML.search_experiments()\n",
    "print(all_experiments)"
   ]
  },
  {
   "cell_type": "markdown",
   "id": "f08e4888",
   "metadata": {},
   "source": [
    "## Random Forest model"
   ]
  },
  {
   "cell_type": "code",
   "execution_count": null,
   "id": "ca058e8c",
   "metadata": {},
   "outputs": [],
   "source": [
    "ML.search_experiments(filter_string=\"name = 'RDF_Models'\")"
   ]
  }
 ],
 "metadata": {
  "kernelspec": {
   "display_name": "statistique",
   "language": "python",
   "name": "python3"
  },
  "language_info": {
   "codemirror_mode": {
    "name": "ipython",
    "version": 3
   },
   "file_extension": ".py",
   "mimetype": "text/x-python",
   "name": "python",
   "nbconvert_exporter": "python",
   "pygments_lexer": "ipython3",
   "version": "3.12.11"
  }
 },
 "nbformat": 4,
 "nbformat_minor": 5
}
