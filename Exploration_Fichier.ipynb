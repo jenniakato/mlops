{
 "cells": [
  {
   "cell_type": "markdown",
   "id": "e33a5042",
   "metadata": {},
   "source": [
    "#### Exploration de mon fichier "
   ]
  },
  {
   "cell_type": "code",
   "execution_count": null,
   "id": "a2baf776",
   "metadata": {},
   "outputs": [],
   "source": [
    "import panda as pd"
   ]
  }
 ],
 "metadata": {
  "language_info": {
   "name": "python"
  }
 },
 "nbformat": 4,
 "nbformat_minor": 5
}
